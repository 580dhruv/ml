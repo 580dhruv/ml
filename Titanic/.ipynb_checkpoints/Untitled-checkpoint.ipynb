{
 "cells": [
  {
   "cell_type": "code",
   "execution_count": 79,
   "id": "a60b9498-5f1d-4ee4-aef4-0a9437709fce",
   "metadata": {},
   "outputs": [],
   "source": [
    "import sys\n",
    "import numpy as np\n",
    "import matplotlib as plt\n",
    "import pandas as pd"
   ]
  },
  {
   "cell_type": "code",
   "execution_count": 81,
   "id": "25fbc35f-a41f-4c21-bfd9-fcd2d88a2cd2",
   "metadata": {},
   "outputs": [
    {
     "name": "stdout",
     "output_type": "stream",
     "text": [
      "['PassengerId' 'Survived' 'Pclass' 'Name' 'Sex' 'Age' 'SibSp' 'Parch'\n",
      " 'Ticket' 'Fare' 'Cabin' 'Embarked']\n",
      "     Survived  Pclass   Age  Sex  SibSp  Parch     Fare\n",
      "0           0       3  22.0    1      1      0   7.2500\n",
      "1           1       1  38.0    0      1      0  71.2833\n",
      "2           1       3  26.0    0      0      0   7.9250\n",
      "3           1       1  35.0    0      1      0  53.1000\n",
      "4           0       3  35.0    1      0      0   8.0500\n",
      "..        ...     ...   ...  ...    ...    ...      ...\n",
      "886         0       2  27.0    1      0      0  13.0000\n",
      "887         1       1  19.0    0      0      0  30.0000\n",
      "888         0       3   NaN    0      1      2  23.4500\n",
      "889         1       1  26.0    1      0      0  30.0000\n",
      "890         0       3  32.0    1      0      0   7.7500\n",
      "\n",
      "[891 rows x 7 columns]\n"
     ]
    },
    {
     "name": "stderr",
     "output_type": "stream",
     "text": [
      "/var/folders/kq/3v19hhb53m9dfk3n1w8rgqbc0000gn/T/ipykernel_14787/3792059402.py:6: SettingWithCopyWarning: \n",
      "A value is trying to be set on a copy of a slice from a DataFrame.\n",
      "Try using .loc[row_indexer,col_indexer] = value instead\n",
      "\n",
      "See the caveats in the documentation: https://pandas.pydata.org/pandas-docs/stable/user_guide/indexing.html#returning-a-view-versus-a-copy\n",
      "  df1['Sex']=df1['Sex'].astype('category').cat.codes\n"
     ]
    }
   ],
   "source": [
    "df= pd.read_csv(\"train.csv\",header=0)\n",
    "print(df.columns.values)\n",
    "pd.set_option('display.max_columns', None)\n",
    "df1 = df[['Survived', 'Pclass', 'Age', 'Sex','SibSp','Parch','Fare']]\n",
    "#df1['Sex'] = df1['Sex'].astype('category')\n",
    "df1['Sex']=df1['Sex'].astype('category').cat.codes\n",
    "print(df1)"
   ]
  },
  {
   "cell_type": "code",
   "execution_count": 83,
   "id": "dd224689-b075-421e-8f50-1c3015154d81",
   "metadata": {},
   "outputs": [],
   "source": [
    "x_train=df1[['Pclass', 'Age', 'Sex','SibSp','Parch','Fare']]\n",
    "y_train=df1[['Survived']]"
   ]
  },
  {
   "cell_type": "code",
   "execution_count": 87,
   "id": "dafa668a-47a1-484b-8fe1-becc45e84d2b",
   "metadata": {},
   "outputs": [
    {
     "ename": "AttributeError",
     "evalue": "'numpy.ndarray' object has no attribute 'to_numpy'",
     "output_type": "error",
     "traceback": [
      "\u001b[0;31m---------------------------------------------------------------------------\u001b[0m",
      "\u001b[0;31mAttributeError\u001b[0m                            Traceback (most recent call last)",
      "Cell \u001b[0;32mIn[87], line 1\u001b[0m\n\u001b[0;32m----> 1\u001b[0m x_train\u001b[38;5;241m=\u001b[39mx_train\u001b[38;5;241m.\u001b[39mto_numpy()\n\u001b[1;32m      2\u001b[0m y_train\u001b[38;5;241m=\u001b[39my_train\u001b[38;5;241m.\u001b[39mto_numpy()\n\u001b[1;32m      3\u001b[0m \u001b[38;5;66;03m# np.set_printoptions(threshold = sys.maxsize)\u001b[39;00m\n",
      "\u001b[0;31mAttributeError\u001b[0m: 'numpy.ndarray' object has no attribute 'to_numpy'"
     ]
    }
   ],
   "source": [
    "x_train=x_train.to_numpy()\n",
    "y_train=y_train.to_numpy()\n",
    "# np.set_printoptions(threshold = sys.maxsize)\n",
    "print(len(x_train))\n",
    "m,n=x_train.shape\n",
    "print(m,n)\n",
    "w=np.arange(m)\n",
    "b=5\n",
    "a=0.5\n",
    "x_train=x_train[~np.isnan(x_train)]\n",
    "# print(w)"
   ]
  },
  {
   "cell_type": "code",
   "execution_count": 53,
   "id": "f94025d8-02c4-4dce-9754-a1f5ac5ace30",
   "metadata": {},
   "outputs": [],
   "source": [
    "def cal_multi(x,w,b):\n",
    "    sum=0\n",
    "    sum+=np.dot(x,w)\n",
    "    return sum+b"
   ]
  },
  {
   "cell_type": "code",
   "execution_count": 55,
   "id": "ff354990-fd9a-4bb1-9e73-9090a8c3ddbd",
   "metadata": {},
   "outputs": [],
   "source": [
    "def cal_cost(x,y,w,b):\n",
    "    m=x.shape[0]\n",
    "    cost=0\n",
    "    for i in range(m):\n",
    "        f_wb=cal_multi(x[i],w,b)**2\n",
    "        cost+=f_wb\n",
    "    return cost//(2*m)"
   ]
  },
  {
   "cell_type": "code",
   "execution_count": 57,
   "id": "cfce480e-eefa-4f76-9c9d-c258dfcdf199",
   "metadata": {},
   "outputs": [],
   "source": [
    "def cal_par(x,y,w,b):\n",
    "    print(x)\n",
    "    J_wb=cal_cost(x,y,w,b)\n",
    "    # m,n=x.shape\n",
    "    # print(m,n)\n",
    "    d_dw=d_db=0\n",
    "    for i in range(m):\n",
    "        f_wb=cal_multi(x[i],w,b)\n",
    "        d_db+=f_wb\n",
    "        for j in range(n):\n",
    "            d_dw+=(f_wb*x[i,j])\n",
    "    return d_dw,d_db"
   ]
  },
  {
   "cell_type": "code",
   "execution_count": 59,
   "id": "db49b3a6-a986-4973-a5b4-54df5e489c4c",
   "metadata": {},
   "outputs": [],
   "source": [
    "def cal_final(x,y,w,b,a):\n",
    "    d_dw,d_db=cal_par(x,y,w,b)\n",
    "    m=x.shape[0]\n",
    "    w=w\n",
    "    b=b\n",
    "    for i in range(m):\n",
    "        w=w-(a*d_dw)\n",
    "        b=b-(a*d_db)\n",
    "    return w,b"
   ]
  },
  {
   "cell_type": "code",
   "execution_count": 61,
   "id": "5357ad4c-19de-4a90-9bc6-b84ddb0bd01f",
   "metadata": {},
   "outputs": [
    {
     "name": "stdout",
     "output_type": "stream",
     "text": [
      "[ 3.   22.    1.   ...  0.    0.    7.75]\n"
     ]
    },
    {
     "ename": "NameError",
     "evalue": "name 'n' is not defined",
     "output_type": "error",
     "traceback": [
      "\u001b[0;31m---------------------------------------------------------------------------\u001b[0m",
      "\u001b[0;31mNameError\u001b[0m                                 Traceback (most recent call last)",
      "Cell \u001b[0;32mIn[61], line 1\u001b[0m\n\u001b[0;32m----> 1\u001b[0m \u001b[38;5;28mprint\u001b[39m(cal_final(x_train,y_train,w,b,a))\n",
      "Cell \u001b[0;32mIn[59], line 2\u001b[0m, in \u001b[0;36mcal_final\u001b[0;34m(x, y, w, b, a)\u001b[0m\n\u001b[1;32m      1\u001b[0m \u001b[38;5;28;01mdef\u001b[39;00m \u001b[38;5;21mcal_final\u001b[39m(x,y,w,b,a):\n\u001b[0;32m----> 2\u001b[0m     d_dw,d_db\u001b[38;5;241m=\u001b[39mcal_par(x,y,w,b)\n\u001b[1;32m      3\u001b[0m     m\u001b[38;5;241m=\u001b[39mx\u001b[38;5;241m.\u001b[39mshape[\u001b[38;5;241m0\u001b[39m]\n\u001b[1;32m      4\u001b[0m     w\u001b[38;5;241m=\u001b[39mw\n",
      "Cell \u001b[0;32mIn[57], line 10\u001b[0m, in \u001b[0;36mcal_par\u001b[0;34m(x, y, w, b)\u001b[0m\n\u001b[1;32m      8\u001b[0m     f_wb\u001b[38;5;241m=\u001b[39mcal_multi(x[i],w,b)\n\u001b[1;32m      9\u001b[0m     d_db\u001b[38;5;241m+\u001b[39m\u001b[38;5;241m=\u001b[39mf_wb\n\u001b[0;32m---> 10\u001b[0m     \u001b[38;5;28;01mfor\u001b[39;00m j \u001b[38;5;129;01min\u001b[39;00m \u001b[38;5;28mrange\u001b[39m(n):\n\u001b[1;32m     11\u001b[0m         d_dw\u001b[38;5;241m+\u001b[39m\u001b[38;5;241m=\u001b[39m(f_wb\u001b[38;5;241m*\u001b[39mx[i,j])\n\u001b[1;32m     12\u001b[0m \u001b[38;5;28;01mreturn\u001b[39;00m d_dw,d_db\n",
      "\u001b[0;31mNameError\u001b[0m: name 'n' is not defined"
     ]
    }
   ],
   "source": [
    "print(cal_final(x_train,y_train,w,b,a))\n",
    "# print(cal_cost(x_train,y_train,w,b))"
   ]
  },
  {
   "cell_type": "code",
   "execution_count": null,
   "id": "2522aec0-89c9-416d-81cd-7f260c41d373",
   "metadata": {},
   "outputs": [],
   "source": []
  },
  {
   "cell_type": "code",
   "execution_count": null,
   "id": "2ec63f6d-63f0-406d-af5c-856c4e080749",
   "metadata": {},
   "outputs": [],
   "source": []
  },
  {
   "cell_type": "code",
   "execution_count": null,
   "id": "6a603cfa-e4d1-4350-8a05-b76fac8cfed8",
   "metadata": {},
   "outputs": [],
   "source": []
  },
  {
   "cell_type": "code",
   "execution_count": null,
   "id": "302cc4ac-b266-426d-91ed-de8b3c2094a4",
   "metadata": {},
   "outputs": [],
   "source": []
  }
 ],
 "metadata": {
  "kernelspec": {
   "display_name": "Python 3 (ipykernel)",
   "language": "python",
   "name": "python3"
  },
  "language_info": {
   "codemirror_mode": {
    "name": "ipython",
    "version": 3
   },
   "file_extension": ".py",
   "mimetype": "text/x-python",
   "name": "python",
   "nbconvert_exporter": "python",
   "pygments_lexer": "ipython3",
   "version": "3.12.4"
  }
 },
 "nbformat": 4,
 "nbformat_minor": 5
}
