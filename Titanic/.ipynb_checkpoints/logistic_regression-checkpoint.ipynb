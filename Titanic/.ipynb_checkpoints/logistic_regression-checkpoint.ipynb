{
 "cells": [
  {
   "cell_type": "code",
   "execution_count": 211,
   "id": "f762d1ac-7894-4cce-ac6b-768c5deeaa0b",
   "metadata": {},
   "outputs": [],
   "source": [
    "import numpy as np\n",
    "import pandas as pd\n",
    "import random\n",
    "import math"
   ]
  },
  {
   "cell_type": "code",
   "execution_count": 213,
   "id": "9c593219-7bed-472d-ac17-b225ebb47c90",
   "metadata": {},
   "outputs": [],
   "source": [
    "# X=np.array([[10.0,11.0,12.0,13.0],[14.0,15.0,16.0,17.0],[18.0,19.0,20.0,21.0]])\n",
    "# Y=np.array([1.0,0.0,1.0])\n",
    "# W=np.array([0.0,0.0,0.0,0.0])\n",
    "b=0.0\n",
    "a=0.1\n",
    "# print(\"X :\",X)\n",
    "# print(\"W :\",W)\n",
    "# print(\"b :\",b)\n",
    "# print(\"Y :\",Y)"
   ]
  },
  {
   "cell_type": "code",
   "execution_count": 215,
   "id": "06ab8799-2359-4e13-ae87-1792b509c785",
   "metadata": {},
   "outputs": [
    {
     "name": "stdout",
     "output_type": "stream",
     "text": [
      "['PassengerId' 'Survived' 'Pclass' 'Name' 'Sex' 'Age' 'SibSp' 'Parch'\n",
      " 'Ticket' 'Fare' 'Cabin' 'Embarked']\n"
     ]
    },
    {
     "name": "stderr",
     "output_type": "stream",
     "text": [
      "/var/folders/kq/3v19hhb53m9dfk3n1w8rgqbc0000gn/T/ipykernel_7375/369172498.py:6: SettingWithCopyWarning: \n",
      "A value is trying to be set on a copy of a slice from a DataFrame.\n",
      "Try using .loc[row_indexer,col_indexer] = value instead\n",
      "\n",
      "See the caveats in the documentation: https://pandas.pydata.org/pandas-docs/stable/user_guide/indexing.html#returning-a-view-versus-a-copy\n",
      "  df1['Sex']=df1['Sex'].astype('category').cat.codes\n"
     ]
    }
   ],
   "source": [
    "df= pd.read_csv(\"train.csv\",header=0)\n",
    "print(df.columns.values)\n",
    "pd.set_option('display.max_columns', None)\n",
    "df1 = df[['Survived', 'Pclass', 'Age', 'Sex','SibSp','Parch','Fare']]\n",
    "#df1['Sex'] = df1['Sex'].astype('category')\n",
    "df1['Sex']=df1['Sex'].astype('category').cat.codes\n",
    "df1.loc[df1['Sex'] == 0, 'Age'] = df1.loc[df1['Sex'] == 0, 'Age'].fillna(df1.loc[df1['Sex'] == 0, 'Age'].rolling(891).std().shift())\n",
    "df1.loc[df1['Sex'] == 1, 'Age'] = df1.loc[df1['Sex'] == 1, 'Age'].fillna(df1.loc[df1['Sex'] == 1, 'Age'].rolling(891).std().shift())"
   ]
  },
  {
   "cell_type": "code",
   "execution_count": 217,
   "id": "c8c8e259-a4ed-462e-8ba6-181ba82eb489",
   "metadata": {},
   "outputs": [
    {
     "data": {
      "text/plain": [
       "Survived    891\n",
       "Pclass      891\n",
       "Age         714\n",
       "Sex         891\n",
       "SibSp       891\n",
       "Parch       891\n",
       "Fare        891\n",
       "dtype: int64"
      ]
     },
     "execution_count": 217,
     "metadata": {},
     "output_type": "execute_result"
    }
   ],
   "source": [
    "df1.count()\n",
    "# df.count()\n"
   ]
  },
  {
   "cell_type": "code",
   "execution_count": 219,
   "id": "06065399-ba93-40c7-95f4-6a32b2958e72",
   "metadata": {},
   "outputs": [],
   "source": [
    "x_train=df1[['Pclass', 'Age', 'Sex','SibSp','Parch','Fare']]\n",
    "y_train=df1[['Survived']]"
   ]
  },
  {
   "cell_type": "code",
   "execution_count": 221,
   "id": "a4f17123-fa32-43fb-8f31-e8f38cf75447",
   "metadata": {},
   "outputs": [],
   "source": [
    "X=x_train.copy().to_numpy()\n",
    "Y=y_train.copy().to_numpy()"
   ]
  },
  {
   "cell_type": "code",
   "execution_count": 223,
   "id": "4a46e10e-3eb9-4e8f-84b3-b51b178ab490",
   "metadata": {},
   "outputs": [],
   "source": [
    "def initialize_weights(no_of_columns):\n",
    "    return np.zeros(no_of_columns)"
   ]
  },
  {
   "cell_type": "code",
   "execution_count": 225,
   "id": "338dfc91-9f94-4910-b349-f04ff546b722",
   "metadata": {},
   "outputs": [],
   "source": [
    "W=initialize_weights(X.shape[1])"
   ]
  },
  {
   "cell_type": "code",
   "execution_count": 227,
   "id": "7595941a-236e-4444-a1cc-778065416b10",
   "metadata": {},
   "outputs": [],
   "source": [
    "def compute_Z(X,W,b):\n",
    "    return np.dot(X,W)+b"
   ]
  },
  {
   "cell_type": "code",
   "execution_count": 229,
   "id": "80fa9117-9ec8-4ddc-b58e-a33fad28de3f",
   "metadata": {},
   "outputs": [
    {
     "name": "stdout",
     "output_type": "stream",
     "text": [
      "Z : [ 0.  0.  0.  0.  0. nan  0.  0.  0.  0.]\n"
     ]
    }
   ],
   "source": [
    "Z=compute_Z(X,W,b)\n",
    "print(\"Z :\",Z[:10])"
   ]
  },
  {
   "cell_type": "code",
   "execution_count": 231,
   "id": "b18e179b-8390-418a-be72-2c9283ba559f",
   "metadata": {},
   "outputs": [],
   "source": [
    "def compute_sigmoid(X,W,b):\n",
    "    Z=compute_Z(X,W,b)\n",
    "    return 1/(1+(np.exp(-Z)))"
   ]
  },
  {
   "cell_type": "code",
   "execution_count": 233,
   "id": "646a5e05-5df5-43bc-8f48-071cadc49a6c",
   "metadata": {},
   "outputs": [
    {
     "name": "stdout",
     "output_type": "stream",
     "text": [
      "Sig : [0.5 0.5 0.5 0.5 0.5 nan 0.5 0.5 0.5 0.5]\n"
     ]
    }
   ],
   "source": [
    "sig= compute_sigmoid(X,W,b)\n",
    "print(\"Sig :\",sig[:10])"
   ]
  },
  {
   "cell_type": "code",
   "execution_count": 235,
   "id": "5538bb86-5028-4dc5-b8d2-c8c36dfde866",
   "metadata": {},
   "outputs": [],
   "source": [
    "# print(\"Math :\",math.e**(-Z))\n",
    "# print(\"1+Math :\",1+math.e**(-Z))\n",
    "# print(\"1/(1+Math) :\",1/(1+(math.e**(-Z))))"
   ]
  },
  {
   "cell_type": "code",
   "execution_count": 237,
   "id": "61268ec9-0460-44bd-8098-37dae4d01721",
   "metadata": {},
   "outputs": [],
   "source": [
    "def compute_cost(X,Y,W,b):\n",
    "    row_count=(X.shape[0])\n",
    "    f_wb=compute_sigmoid(X,W,b)\n",
    "    J_wb=np.zeros(row_count)\n",
    "    for row in range(row_count):\n",
    "        J_wb[row]+=((Y[row]*np.nan_to_num(np.log(f_wb[row]), nan=0.0, posinf=0.0, neginf=0.0))+((1-Y[row])*np.nan_to_num(np.log(1-f_wb[row]), nan=0.0, posinf=0.0, neginf=0.0)))\n",
    "        # print(\"J_wb\",J_wb[row],\"Y :\",Y[row],\"log(f_Wb) :\",np.log(f_wb[row]),\"1-Y :\",1-Y[row],\"log(1-f_Wb) :\",np.log(1-f_wb[row]))\n",
    "    \n",
    "    return np.sum(J_wb)/(-row_count)"
   ]
  },
  {
   "cell_type": "code",
   "execution_count": 239,
   "id": "891c585e-bc84-4bc9-aa92-2afc2728a43e",
   "metadata": {},
   "outputs": [
    {
     "name": "stdout",
     "output_type": "stream",
     "text": [
      "0.5554512760042659\n"
     ]
    },
    {
     "name": "stderr",
     "output_type": "stream",
     "text": [
      "/var/folders/kq/3v19hhb53m9dfk3n1w8rgqbc0000gn/T/ipykernel_7375/4191932811.py:6: DeprecationWarning: Conversion of an array with ndim > 0 to a scalar is deprecated, and will error in future. Ensure you extract a single element from your array before performing this operation. (Deprecated NumPy 1.25.)\n",
      "  J_wb[row]+=((Y[row]*np.nan_to_num(np.log(f_wb[row]), nan=0.0, posinf=0.0, neginf=0.0))+((1-Y[row])*np.nan_to_num(np.log(1-f_wb[row]), nan=0.0, posinf=0.0, neginf=0.0)))\n"
     ]
    }
   ],
   "source": [
    "jwb= compute_cost(X,Y,W,b)\n",
    "print(jwb)\n",
    "# J_wb -inf Y : 0.0 log(f_Wb) : 0.0 1-Y : 1.0 log(1-f_Wb) : -inf\n",
    "# J_wb -inf Y : 0.0 log(f_Wb) : 0.0 1-Y : 1.0 log(1-f_Wb) : -inf\n",
    "# J_wb nan Y : 1.0 log(f_Wb) : 0.0 1-Y : 0.0 log(1-f_Wb) : -inf\n",
    "# nan"
   ]
  },
  {
   "cell_type": "code",
   "execution_count": 241,
   "id": "ff1054bd-14c8-49f2-916c-17808a3bdd1d",
   "metadata": {},
   "outputs": [],
   "source": [
    "# print(\"Sigmoid :\",compute_sigmoid(X,W,b))\n",
    "# print(\"Y :\",Y,\"log(f_Wb) :\",np.log(sig),\"1-Y :\",1-Y,\"log(1-f_Wb) :\",np.log(1-sig))"
   ]
  },
  {
   "cell_type": "code",
   "execution_count": 243,
   "id": "ef38a96a-779e-40ac-8f25-4f6bc4e34c2b",
   "metadata": {},
   "outputs": [],
   "source": [
    "def compute_differential_param(X,Y,W,b):\n",
    "    row_count,column_count=X.shape\n",
    "    dj_db=0\n",
    "    dj_dw=np.zeros(column_count)\n",
    "    for row in range(row_count):\n",
    "        f_wb=compute_sigmoid(X[row],W,b)\n",
    "        err= f_wb-Y[row]\n",
    "        dj_db+=err\n",
    "        for column in range(column_count):\n",
    "            dj_dw[column]+=(err*X[row,column])\n",
    "    dj_db/=row_count\n",
    "    dj_dw/=row_count\n",
    "    return dj_db,dj_dw"
   ]
  },
  {
   "cell_type": "code",
   "execution_count": 245,
   "id": "d8a60c81-b936-43e2-b709-16a82038010a",
   "metadata": {},
   "outputs": [
    {
     "name": "stdout",
     "output_type": "stream",
     "text": [
      "dj_db : [nan] dj_dw : [nan nan nan nan nan nan]\n"
     ]
    },
    {
     "name": "stderr",
     "output_type": "stream",
     "text": [
      "/var/folders/kq/3v19hhb53m9dfk3n1w8rgqbc0000gn/T/ipykernel_7375/3024815369.py:10: DeprecationWarning: Conversion of an array with ndim > 0 to a scalar is deprecated, and will error in future. Ensure you extract a single element from your array before performing this operation. (Deprecated NumPy 1.25.)\n",
      "  dj_dw[column]+=(err*X[row,column])\n"
     ]
    }
   ],
   "source": [
    "dj_db,dj_dw=compute_differential_param(X,Y,W,b)\n",
    "print(\"dj_db :\",dj_db,\"dj_dw :\",dj_dw)"
   ]
  },
  {
   "cell_type": "code",
   "execution_count": 247,
   "id": "71ce5032-9405-4dbd-99ef-e5ec20bbc8d7",
   "metadata": {},
   "outputs": [],
   "source": [
    "def compute_gradient_descent(X,Y,W,b,a):\n",
    "    row_count,column_count=X.shape\n",
    "    dj_db,dj_dw=compute_differential_param(X,Y,W,b)\n",
    "    J_wb=compute_cost(X,Y,W,b)\n",
    "    for i in range(10000):\n",
    "        W= W-(a*dj_dw)\n",
    "        b= b-(a*dj_db)\n",
    "        J_wb=compute_cost(X,Y,W,b)\n",
    "    return b,W"
   ]
  },
  {
   "cell_type": "code",
   "execution_count": 249,
   "id": "858c5996-9580-49c6-8ccd-49ec02365600",
   "metadata": {},
   "outputs": [
    {
     "name": "stderr",
     "output_type": "stream",
     "text": [
      "/var/folders/kq/3v19hhb53m9dfk3n1w8rgqbc0000gn/T/ipykernel_7375/3024815369.py:10: DeprecationWarning: Conversion of an array with ndim > 0 to a scalar is deprecated, and will error in future. Ensure you extract a single element from your array before performing this operation. (Deprecated NumPy 1.25.)\n",
      "  dj_dw[column]+=(err*X[row,column])\n",
      "/var/folders/kq/3v19hhb53m9dfk3n1w8rgqbc0000gn/T/ipykernel_7375/4191932811.py:6: DeprecationWarning: Conversion of an array with ndim > 0 to a scalar is deprecated, and will error in future. Ensure you extract a single element from your array before performing this operation. (Deprecated NumPy 1.25.)\n",
      "  J_wb[row]+=((Y[row]*np.nan_to_num(np.log(f_wb[row]), nan=0.0, posinf=0.0, neginf=0.0))+((1-Y[row])*np.nan_to_num(np.log(1-f_wb[row]), nan=0.0, posinf=0.0, neginf=0.0)))\n"
     ]
    },
    {
     "name": "stdout",
     "output_type": "stream",
     "text": [
      "b : [nan] W : [nan nan nan nan nan nan]\n"
     ]
    }
   ],
   "source": [
    "b,W=compute_gradient_descent(X,Y,W,b,a)\n",
    "print(\"b :\",b,\"W :\",W)"
   ]
  },
  {
   "cell_type": "code",
   "execution_count": 250,
   "id": "2f7661ac-b8d7-426d-9651-0698e810c837",
   "metadata": {},
   "outputs": [
    {
     "name": "stderr",
     "output_type": "stream",
     "text": [
      "/var/folders/kq/3v19hhb53m9dfk3n1w8rgqbc0000gn/T/ipykernel_7375/355750850.py:5: SettingWithCopyWarning: \n",
      "A value is trying to be set on a copy of a slice from a DataFrame.\n",
      "Try using .loc[row_indexer,col_indexer] = value instead\n",
      "\n",
      "See the caveats in the documentation: https://pandas.pydata.org/pandas-docs/stable/user_guide/indexing.html#returning-a-view-versus-a-copy\n",
      "  test_df_selected['Sex']=test_df_selected.Sex.astype('category').cat.codes\n",
      "/var/folders/kq/3v19hhb53m9dfk3n1w8rgqbc0000gn/T/ipykernel_7375/355750850.py:7: SettingWithCopyWarning: \n",
      "A value is trying to be set on a copy of a slice from a DataFrame.\n",
      "Try using .loc[row_indexer,col_indexer] = value instead\n",
      "\n",
      "See the caveats in the documentation: https://pandas.pydata.org/pandas-docs/stable/user_guide/indexing.html#returning-a-view-versus-a-copy\n",
      "  test_df_selected['Fare']=test_df_selected['Fare'].fillna(test_df_selected['Fare'].mean())\n"
     ]
    }
   ],
   "source": [
    "test_df= pd.read_csv(\"test.csv\",header=0)\n",
    "# print(test_df)\n",
    "test_df_selected= test_df[['Pclass', 'Age', 'Sex','SibSp','Parch','Fare']]\n",
    "# print(test_df_selected)\n",
    "test_df_selected['Sex']=test_df_selected.Sex.astype('category').cat.codes\n",
    "# print(test_df_selected)\n",
    "test_df_selected['Fare']=test_df_selected['Fare'].fillna(test_df_selected['Fare'].mean())\n",
    "test_df_selected.loc[test_df_selected['Sex'] == 0, 'Age'] = test_df_selected.loc[test_df_selected['Sex'] == 0, 'Age'].fillna(test_df_selected.loc[test_df_selected['Sex'] == 0, 'Age'].rolling(418).std().shift())\n",
    "test_df_selected.loc[test_df_selected['Sex'] == 1, 'Age'] = test_df_selected.loc[test_df_selected['Sex'] == 1, 'Age'].fillna(test_df_selected.loc[test_df_selected['Sex'] == 1, 'Age'].rolling(418).std().shift())\n",
    "# print(test_df_selected)\n",
    "x_test=test_df_selected.to_numpy()\n",
    "# print(x_test)"
   ]
  },
  {
   "cell_type": "code",
   "execution_count": 251,
   "id": "0fa1d385-49c0-4716-a7ad-d30743cfee26",
   "metadata": {},
   "outputs": [
    {
     "data": {
      "text/plain": [
       "PassengerId    418\n",
       "Pclass         418\n",
       "Name           418\n",
       "Sex            418\n",
       "Age            332\n",
       "SibSp          418\n",
       "Parch          418\n",
       "Ticket         418\n",
       "Fare           417\n",
       "Cabin           91\n",
       "Embarked       418\n",
       "dtype: int64"
      ]
     },
     "execution_count": 251,
     "metadata": {},
     "output_type": "execute_result"
    }
   ],
   "source": [
    "test_df.count()"
   ]
  },
  {
   "cell_type": "code",
   "execution_count": 252,
   "id": "d8b4214d-4f09-4ee7-a19d-a26bc2fa8536",
   "metadata": {},
   "outputs": [
    {
     "name": "stdout",
     "output_type": "stream",
     "text": [
      "[nan nan nan nan nan nan nan nan nan nan]\n"
     ]
    }
   ],
   "source": [
    "result=compute_sigmoid(x_test,W,b)\n",
    "print(result[:10])"
   ]
  },
  {
   "cell_type": "code",
   "execution_count": 253,
   "id": "cf3d1822-acab-4105-9bcd-7e953306c8a4",
   "metadata": {},
   "outputs": [
    {
     "name": "stdout",
     "output_type": "stream",
     "text": [
      "418\n"
     ]
    }
   ],
   "source": [
    "categorical_result=[]\n",
    "for row_result in result:\n",
    "    if row_result>0.5:\n",
    "        categorical_result.append(1)\n",
    "    else:\n",
    "        categorical_result.append(0)\n",
    "print(len(categorical_result))"
   ]
  },
  {
   "cell_type": "code",
   "execution_count": 254,
   "id": "25430496-6ea3-4eb8-99a8-675a784a279b",
   "metadata": {},
   "outputs": [
    {
     "name": "stdout",
     "output_type": "stream",
     "text": [
      "418\n",
      "418\n"
     ]
    }
   ],
   "source": [
    "not_null_df=test_df[['PassengerId','Pclass', 'Age', 'Sex','SibSp','Parch','Fare']].fillna(0)\n",
    "# print(not_null_df)\n",
    "print(len(not_null_df))\n",
    "print(len(test_df_selected))\n",
    "not_null_df['Survived']=categorical_result\n",
    "submission_df=not_null_df[['PassengerId','Survived']].sort_values(by='PassengerId')\n",
    "submission_df.to_csv('submission.csv',index=False)"
   ]
  },
  {
   "cell_type": "code",
   "execution_count": null,
   "id": "c566ce54-6394-4035-a0d0-4f1f849fbd03",
   "metadata": {},
   "outputs": [],
   "source": []
  },
  {
   "cell_type": "code",
   "execution_count": null,
   "id": "7aaa8e72-d478-46e3-a92c-2c92c30be24d",
   "metadata": {},
   "outputs": [],
   "source": []
  },
  {
   "cell_type": "code",
   "execution_count": null,
   "id": "5445a20f-4089-447e-a178-2e24ebd103dc",
   "metadata": {},
   "outputs": [],
   "source": []
  },
  {
   "cell_type": "code",
   "execution_count": null,
   "id": "087bd279-c912-41f2-b995-e749baa04827",
   "metadata": {},
   "outputs": [],
   "source": []
  },
  {
   "cell_type": "code",
   "execution_count": null,
   "id": "f05740c3-d64e-414e-8593-95fbf912ff37",
   "metadata": {},
   "outputs": [],
   "source": []
  },
  {
   "cell_type": "code",
   "execution_count": null,
   "id": "7e04b91f-6a99-407d-9f14-99e91ec98fa0",
   "metadata": {},
   "outputs": [],
   "source": []
  },
  {
   "cell_type": "code",
   "execution_count": null,
   "id": "44a24aee-9da7-4e7d-9b02-e5d74740d1a6",
   "metadata": {},
   "outputs": [],
   "source": []
  },
  {
   "cell_type": "code",
   "execution_count": null,
   "id": "2091a882-d47d-4db5-81bf-112a94066a03",
   "metadata": {},
   "outputs": [],
   "source": []
  }
 ],
 "metadata": {
  "kernelspec": {
   "display_name": "Python 3 (ipykernel)",
   "language": "python",
   "name": "python3"
  },
  "language_info": {
   "codemirror_mode": {
    "name": "ipython",
    "version": 3
   },
   "file_extension": ".py",
   "mimetype": "text/x-python",
   "name": "python",
   "nbconvert_exporter": "python",
   "pygments_lexer": "ipython3",
   "version": "3.12.4"
  }
 },
 "nbformat": 4,
 "nbformat_minor": 5
}
