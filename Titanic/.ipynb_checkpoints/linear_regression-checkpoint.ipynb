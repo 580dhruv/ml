{
 "cells": [
  {
   "cell_type": "code",
   "execution_count": 1,
   "metadata": {},
   "outputs": [],
   "source": [
    "import numpy as np\n",
    "import random\n",
    "import math\n",
    "import pandas as pd"
   ]
  },
  {
   "cell_type": "code",
   "execution_count": 2,
   "metadata": {},
   "outputs": [
    {
     "name": "stdout",
     "output_type": "stream",
     "text": [
      "X_train : Survived    177\n",
      "Pclass      177\n",
      "Sex         177\n",
      "Age           0\n",
      "SibSp       177\n",
      "Parch       177\n",
      "Fare        177\n",
      "dtype: int64\n"
     ]
    }
   ],
   "source": [
    "df= pd.read_csv('train.csv')\n",
    "# print(df)\n",
    "df1= df[['Survived','Pclass','Sex','Age','SibSp','Parch','Fare']]\n",
    "# print(df1.count())\n",
    "# print(df1.shape)\n",
    "train=df1[df1['Age'].isnull()][:]\n",
    "train['Sex']=train['Sex'].astype('category').cat.codes\n",
    "print(\"X_train :\",train.count())\n",
    "df1=df1.dropna()\n",
    "# print(df1.count())\n",
    "df1['Sex']=df1['Sex'].astype('category').cat.codes\n",
    "# print(df1)\n"
   ]
  },
  {
   "cell_type": "code",
   "execution_count": 3,
   "metadata": {},
   "outputs": [
    {
     "name": "stdout",
     "output_type": "stream",
     "text": [
      "[[  0.       3.       1.       0.       0.       8.4583]\n",
      " [  1.       2.       1.       0.       0.      13.    ]\n",
      " [  1.       3.       0.       0.       0.       7.225 ]\n",
      " [  0.       3.       1.       0.       0.       7.225 ]\n",
      " [  1.       3.       0.       0.       0.       7.8792]\n",
      " [  0.       3.       1.       0.       0.       7.8958]\n",
      " [  1.       1.       0.       1.       0.     146.5208]\n",
      " [  1.       3.       0.       0.       0.       7.75  ]\n",
      " [  1.       3.       1.       0.       0.       7.2292]\n",
      " [  0.       3.       1.       0.       0.       7.8958]]\n",
      "[[ 0.      3.      1.      1.      0.      7.25  ]\n",
      " [ 1.      1.      0.      1.      0.     71.2833]\n",
      " [ 1.      3.      0.      0.      0.      7.925 ]\n",
      " [ 1.      1.      0.      1.      0.     53.1   ]\n",
      " [ 0.      3.      1.      0.      0.      8.05  ]\n",
      " [ 0.      1.      1.      0.      0.     51.8625]\n",
      " [ 0.      3.      1.      3.      1.     21.075 ]\n",
      " [ 1.      3.      0.      0.      2.     11.1333]\n",
      " [ 1.      2.      0.      1.      0.     30.0708]\n",
      " [ 1.      3.      0.      1.      1.     16.7   ]]\n",
      "[22. 38. 26. 35. 35. 54.  2. 27. 14.  4.]\n",
      "[0. 0. 0. 0. 0. 0.]\n"
     ]
    }
   ],
   "source": [
    "X=df1[['Survived','Pclass','Sex','SibSp','Parch','Fare']].to_numpy()\n",
    "X_train=train[['Survived','Pclass','Sex','SibSp','Parch','Fare']].to_numpy()\n",
    "print(X_train[:10])\n",
    "Y=df1['Age'].to_numpy()\n",
    "print(X[:10])\n",
    "print(Y[:10])\n",
    "W=np.zeros(X.shape[1])\n",
    "print(W)\n",
    "b=0.0\n",
    "a=0.000001"
   ]
  },
  {
   "cell_type": "code",
   "execution_count": 4,
   "metadata": {},
   "outputs": [],
   "source": [
    "def compute_linear(X,W,b):\n",
    "    return np.dot(X,W)+b"
   ]
  },
  {
   "cell_type": "code",
   "execution_count": 5,
   "metadata": {},
   "outputs": [
    {
     "name": "stdout",
     "output_type": "stream",
     "text": [
      "[0. 0. 0. 0. 0. 0. 0. 0. 0. 0.]\n"
     ]
    }
   ],
   "source": [
    "linear= compute_linear(X,W,b)\n",
    "print(linear[:10])\n"
   ]
  },
  {
   "cell_type": "code",
   "execution_count": 6,
   "metadata": {},
   "outputs": [],
   "source": [
    "def compute_cost(X,Y,W,b):\n",
    "    row_count,column_count=X.shape\n",
    "    J_wb=np.zeros(row_count)\n",
    "    for row in range(row_count):\n",
    "        J_wb[row]+=(compute_linear(X[row],W,b)-Y[row])**2\n",
    "    return np.sum(J_wb)/(2*row_count)"
   ]
  },
  {
   "cell_type": "code",
   "execution_count": 7,
   "metadata": {},
   "outputs": [
    {
     "name": "stdout",
     "output_type": "stream",
     "text": [
      "546.3805843837536\n"
     ]
    }
   ],
   "source": [
    "cost=compute_cost(X,Y,W,b)\n",
    "print(cost)"
   ]
  },
  {
   "cell_type": "code",
   "execution_count": 8,
   "metadata": {},
   "outputs": [],
   "source": [
    "def compute_differential_parameters(X,Y,W,b):\n",
    "    row_count,column_count=X.shape\n",
    "    dj_dw=np.zeros(X.shape[1])\n",
    "    dj_db=0\n",
    "    for row in range(row_count):\n",
    "        f_wb=compute_linear(X[row],W,b)\n",
    "        err=f_wb-Y[row]\n",
    "        dj_db+=err\n",
    "        for column in range(column_count):\n",
    "            dj_dw[column]+=(err*X[row,column])\n",
    "    dj_db/=row_count\n",
    "    dj_dw/=row_count\n",
    "    return dj_db,dj_dw"
   ]
  },
  {
   "cell_type": "code",
   "execution_count": 9,
   "metadata": {},
   "outputs": [
    {
     "name": "stdout",
     "output_type": "stream",
     "text": [
      "d_jb : -29.69911764705882\n",
      "d_jw : [  -11.51214286   -61.93815126   -19.49463585   -11.06641457\n",
      "   -10.47047619 -1104.14205296]\n"
     ]
    }
   ],
   "source": [
    "d_jb,d_jw=compute_differential_parameters(X,Y,W,b)\n",
    "print(\"d_jb :\",d_jb)\n",
    "print(\"d_jw :\",d_jw)"
   ]
  },
  {
   "cell_type": "code",
   "execution_count": 10,
   "metadata": {},
   "outputs": [],
   "source": [
    "def compute_gradient_descent(X,Y,W,b,a):\n",
    "    dj_db,dj_dw=compute_differential_parameters(X,Y,W,b)\n",
    "    J_wb=compute_cost(X,Y,W,b)\n",
    "    for i in range(10000):\n",
    "        W=W-(a*dj_dw)\n",
    "        b=b-(a*dj_db)\n",
    "        J_wb=compute_cost(X,Y,W,b)\n",
    "    return b,W"
   ]
  },
  {
   "cell_type": "code",
   "execution_count": 11,
   "metadata": {},
   "outputs": [
    {
     "name": "stdout",
     "output_type": "stream",
     "text": [
      "0.296991176470543 [ 0.11512143  0.61938151  0.19494636  0.11066415  0.10470476 11.04142053]\n"
     ]
    }
   ],
   "source": [
    "b,W=compute_gradient_descent(X,Y,W,b,a)\n",
    "print(b,W)"
   ]
  },
  {
   "cell_type": "code",
   "execution_count": 12,
   "metadata": {},
   "outputs": [
    {
     "name": "stdout",
     "output_type": "stream",
     "text": [
      "177\n"
     ]
    }
   ],
   "source": [
    "result=compute_linear(X_train,W,b)\n",
    "print(len(result))"
   ]
  },
  {
   "cell_type": "code",
   "execution_count": null,
   "metadata": {},
   "outputs": [],
   "source": []
  },
  {
   "cell_type": "code",
   "execution_count": null,
   "metadata": {},
   "outputs": [],
   "source": []
  },
  {
   "cell_type": "code",
   "execution_count": null,
   "metadata": {},
   "outputs": [],
   "source": []
  }
 ],
 "metadata": {
  "kernelspec": {
   "display_name": "Python 3",
   "language": "python",
   "name": "python3"
  },
  "language_info": {
   "codemirror_mode": {
    "name": "ipython",
    "version": 3
   },
   "file_extension": ".py",
   "mimetype": "text/x-python",
   "name": "python",
   "nbconvert_exporter": "python",
   "pygments_lexer": "ipython3",
   "version": "3.8.5"
  }
 },
 "nbformat": 4,
 "nbformat_minor": 4
}
